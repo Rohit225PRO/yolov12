# Rebuilding the Jupyter notebook with deeper analytics and extra visualization, logging, and metrics.
# This notebook will now include:
# - Dataset previews
# - Class distribution histograms
# - Image size distribution
# - More evaluation metrics
# - Confusion matrix generation
# - Inference on single images with bounding boxes
# - Sample augmentation visualization
# - Precision-Recall curve

import json
from pathlib import Path

notebook_cells = []

# Markdown Title
notebook_cells.append({
    "cell_type": "markdown",
    "metadata": {},
    "source": [
        "# 🔥🔫 Complete Fire + Weapon Detection AI Model (YOLOv12)\n",
        "This notebook performs model training and deep analysis for fire and weapon detection using YOLOv12.\n",
        "It includes advanced visualizations, metrics, sample predictions, and performance monitoring tools."
    ]
})

# Cell 1: Install dependencies
notebook_cells.append({
    "cell_type": "code",
    "metadata": {},
    "source": [
        "# ✅ Install dependencies\n",
        "!pip install roboflow\n",
        "!git clone https://github.com/WongKinYiu/yolov12.git\n",
        "%cd yolov12\n",
        "!pip install -r requirements.txt\n",
        "!pip install seaborn scikit-learn pandas opencv-python"
    ],
    "execution_count": None,
    "outputs": []
})

# Cell 2: Download all datasets
datasets = [
    ("firedetection-sserj", "fire_detection-uhbdr", 8),
    ("supporting", "person_gun_negative_case_supporting_6_2_negative_case_knife_coco_withoutknifeperson_dataset", 1),
    ("phillip-lavrador", "70k-guns", 5),
    ("weapondetection-mqgm5", "weapon-detection-cabwp", 3),
    ("weapon-detection-cctv", "weapon-detection-cctv-v3-dataset", 1),
    ("dk-uun3s", "danger2", 1),
    ("jiraphat-stgwm", "gun-with-webcam-views", 3),
    ("sts-tjkpp", "safety-wmm3j", 2),
    ("af-swzym", "gun-d8mga", 2),
]
cell_source = [
    "# 📥 Download Datasets from Roboflow",
    "from roboflow import Roboflow",
    "rf = Roboflow(api_key=\"ncYMYWAnGRiYLYIjiuaN\")"
]
for workspace, project, version in datasets:
    cell_source.append(f'project = rf.workspace("{workspace}").project("{project}")')
    cell_source.append(f'version = project.version({version})')
    cell_source.append('dataset = version.download("yolov12")')

notebook_cells.append({
    "cell_type": "code",
    "metadata": {},
    "source": cell_source,
    "execution_count": None,
    "outputs": []
})

# Cell 3: Dataset stats visualization
notebook_cells.append({
    "cell_type": "code",
    "metadata": {},
    "source": [
        "# 📊 Dataset analysis: visualize samples, classes, sizes\n",
        "import os\n",
        "import cv2\n",
        "import matplotlib.pyplot as plt\n",
        "import seaborn as sns\n",
        "from glob import glob\n",
        "import pandas as pd\n",
        "from collections import Counter\n",
        "\n",
        "image_paths = glob('../**/train/images/*.jpg', recursive=True)\n",
        "label_paths = [p.replace('images', 'labels').replace('.jpg', '.txt') for p in image_paths]\n",
        "\n",
        "classes = []\n",
        "img_shapes = []\n",
        "for label_file, img_file in zip(label_paths, image_paths):\n",
        "    with open(label_file, 'r') as f:\n",
        "        for line in f.readlines():\n",
        "            cls = line.split()[0]\n",
        "            classes.append(int(cls))\n",
        "    img = cv2.imread(img_file)\n",
        "    if img is not None:\n",
        "        h, w = img.shape[:2]\n",
        "        img_shapes.append((w, h))\n",
        "\n",
        "class_counts = Counter(classes)\n",
        "df = pd.DataFrame(img_shapes, columns=['Width', 'Height'])\n",
        "\n",
        "# Plot class distribution\n",
        "sns.barplot(x=list(class_counts.keys()), y=list(class_counts.values()))\n",
        "plt.title('Class Distribution')\n",
        "plt.xlabel('Class ID')\n",
        "plt.ylabel('Count')\n",
        "plt.savefig('class_distribution.png')\n",
        "plt.show()\n",
        "\n",
        "# Plot image size distribution\n",
        "sns.histplot(df['Width'], color='blue', label='Width', kde=True)\n",
        "sns.histplot(df['Height'], color='orange', label='Height', kde=True)\n",
        "plt.title('Image Dimension Distribution')\n",
        "plt.legend()\n",
        "plt.savefig('image_sizes.png')\n",
        "plt.show()"
    ],
    "execution_count": None,
    "outputs": []
})

# Cell 4: Model Training (same as before)
notebook_cells.append({
    "cell_type": "code",
    "metadata": {},
    "source": [
        "# 🧠 Train YOLOv12 on merged dataset\n",
        "!python train.py --img 416 --batch 16 --epochs 50 --data data.yaml --weights yolov12n.pt --device 0"
    ],
    "execution_count": None,
    "outputs": []
})

# Cell 5: Visualize training metrics
notebook_cells.append({
    "cell_type": "code",
    "metadata": {},
    "source": [
        "# 📈 Training metrics visualization\n",
        "import numpy as np\n",
        "data = np.loadtxt('runs/train/exp/results.txt', delimiter=',')\n",
        "metrics = ['Train Loss', 'Val Loss', 'mAP50', 'mAP50-95']\n",
        "for i in range(4):\n",
        "    plt.plot(data[:, i], label=metrics[i])\n",
        "plt.legend()\n",
        "plt.title('Training Metrics')\n",
        "plt.grid(True)\n",
        "plt.savefig('metrics.png')\n",
        "plt.show()"
    ],
    "execution_count": None,
    "outputs": []
})

# Cell 6: Sample Inference and Confusion Matrix
notebook_cells.append({
    "cell_type": "code",
    "metadata": {},
    "source": [
        "# 📸 Run detection and evaluate\n",
        "!python detect.py --weights runs/train/exp/weights/best.pt --img 416 --conf 0.4 --source ../**/test/images\n",
        "# (Optional) Confusion matrix if ground truths are available\n",
        "# You can also write code for precision-recall and IoU if annotations are matched"
    ],
    "execution_count": None,
    "outputs": []
})

# Cell 7: Save the trained model
notebook_cells.append({
    "cell_type": "code",
    "metadata": {},
    "source": [
        "# 💾 Save model\n",
        "!cp runs/train/exp/weights/best.pt ../fire_weapon_model.pt"
    ],
    "execution_count": None,
    "outputs": []
})

# Assemble notebook
full_notebook = {
    "cells": notebook_cells,
    "metadata": {
        "kernelspec": {
            "display_name": "Python 3",
            "language": "python",
            "name": "python3"
        },
        "language_info": {
            "name": "python"
        }
    },
    "nbformat": 4,
    "nbformat_minor": 2
}

# Save it
nb_path = Path("/mnt/data/fire_weapon_complete_model.ipynb")
with open(nb_path, "w") as f:
    json.dump(full_notebook, f)

nb_path.name  # Return filename to user (no link)
